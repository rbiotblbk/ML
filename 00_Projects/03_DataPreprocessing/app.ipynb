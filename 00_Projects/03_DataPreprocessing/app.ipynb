{
 "cells": [
  {
   "attachments": {},
   "cell_type": "markdown",
   "metadata": {},
   "source": [
    "# DataProcessing (Dynamically)\n",
    "\n",
    "Please DO NOT Upload IT Till Mohamed says GO\n",
    "\n",
    "try to create functions as possible to cover all possible preprocessing actions\n",
    "- Dropna\n",
    "- fillna\n",
    "- replace\n",
    "- duplicate\n",
    "- convert to the correct data types\n",
    "- rename_columns\n",
    "- etc.\n",
    "\n",
    "**please work also with:**\n",
    "- function-wise\n",
    "- oop-wise\n",
    "- logging\n",
    "- modules"
   ]
  },
  {
   "cell_type": "code",
   "execution_count": null,
   "metadata": {},
   "outputs": [],
   "source": [
    "def drop_columns():\n",
    "    pass \n",
    "\n",
    "\n",
    "def rename_columns():\n",
    "    pass \n",
    "\n",
    "\n"
   ]
  },
  {
   "cell_type": "code",
   "execution_count": null,
   "metadata": {},
   "outputs": [],
   "source": [
    "def get_unique_values():\n",
    "    pass \n",
    "\n",
    "def get_duplicated_info():\n",
    "    pass"
   ]
  },
  {
   "cell_type": "code",
   "execution_count": null,
   "metadata": {},
   "outputs": [],
   "source": [
    "myfile = GulgunProcessor(\"./data.csv\")\n",
    "\n",
    "myfile.numericcolumn = [\"id\", \"price\", \"quantity\"]\n",
    "myfile.datecolumn = [\"order date\", \"delivery date\"]\n",
    "myfile.dropolumns = [\"a\", \"v b\"]\n",
    "\n",
    "\n",
    "myfile.clean_process()\n",
    "\n",
    "myfile.report()"
   ]
  }
 ],
 "metadata": {
  "language_info": {
   "name": "python"
  },
  "orig_nbformat": 4
 },
 "nbformat": 4,
 "nbformat_minor": 2
}
